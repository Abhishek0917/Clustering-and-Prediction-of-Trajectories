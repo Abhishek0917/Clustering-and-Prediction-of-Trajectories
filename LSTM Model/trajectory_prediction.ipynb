{
 "cells": [
  {
   "cell_type": "code",
   "execution_count": 8,
   "metadata": {},
   "outputs": [],
   "source": [
    "import math\n",
    "import numpy as np\n",
    "import pandas as pd\n",
    "import matplotlib.pyplot as plt\n",
    "%matplotlib inline\n",
    "import torch\n",
    "import torch.nn as nn\n",
    "import torch.optim as optim\n",
    "import torch.nn.functional as F\n",
    "device = torch.device(\"cuda:0\" if torch.cuda.is_available() else \"cpu\") "
   ]
  },
  {
   "cell_type": "code",
   "execution_count": 9,
   "metadata": {},
   "outputs": [],
   "source": [
    "def trajectory_conversion(trajectory):\n",
    "    input_trajectory = torch.zeros(len(trajectory), 3)\n",
    "    for i in range(1, trajectory.size()[0]):\n",
    "        del_x = trajectory[i][0]-trajectory[i-1][0]\n",
    "        del_y = trajectory[i][1]-trajectory[i-1][1]\n",
    "        del_z = trajectory[i][2]-trajectory[i-1][2]\n",
    "        \n",
    "        input_trajectory[i][0] = del_x\n",
    "        input_trajectory[i][1] = del_y\n",
    "        input_trajectory[i][2] = del_z\n",
    "        \n",
    "    return input_trajectory  "
   ]
  },
  {
   "cell_type": "code",
   "execution_count": 10,
   "metadata": {},
   "outputs": [],
   "source": [
    "def create_inout_sequences(input_data, tw=100):\n",
    "    inout_seq = []\n",
    "    L = len(input_data)\n",
    "    for i in range(L-tw):\n",
    "        train_seq = input_data[i:i+tw].to(device)\n",
    "        train_label = input_data[i+tw].to(device)\n",
    "        inout_seq.append((train_seq ,train_label))\n",
    "    return inout_seq"
   ]
  },
  {
   "cell_type": "code",
   "execution_count": 11,
   "metadata": {},
   "outputs": [],
   "source": [
    "class LSTM(nn.Module):\n",
    "    def __init__(self, input_size=3, hidden_layer_size=128, output_size=3):\n",
    "        super().__init__()\n",
    "        self.hidden_layer_size = hidden_layer_size\n",
    "\n",
    "        self.lstm = nn.LSTM(input_size, hidden_layer_size)\n",
    "\n",
    "        self.linear = nn.Linear(hidden_layer_size, output_size)\n",
    "\n",
    "        self.hidden_cell = (torch.zeros(1,1,self.hidden_layer_size, device=device),\n",
    "                            torch.zeros(1,1,self.hidden_layer_size, device=device))\n",
    "\n",
    "    def forward(self, input_seq):\n",
    "        lstm_out, self.hidden_cell = self.lstm(input_seq.view(len(input_seq) ,1, -1), self.hidden_cell)\n",
    "        lstm_out = F.relu(lstm_out.view(len(input_seq), -1))\n",
    "        predictions = self.linear(lstm_out.view(len(input_seq), -1))\n",
    "        return predictions[-1]"
   ]
  },
  {
   "cell_type": "code",
   "execution_count": 12,
   "metadata": {},
   "outputs": [],
   "source": [
    "def train_model(net, train_inout_seq, lr=0.001, epochs=20, device=device):\n",
    "    model = net.to(device)\n",
    "    optimizer = torch.optim.Adam(model.parameters(), lr=lr)\n",
    "    loss_function = nn.MSELoss()\n",
    "    model.train()\n",
    "    #print(model)\n",
    "    for i in range(epochs):\n",
    "        #optimizer.zero_grad()\n",
    "        for seq, labels in train_inout_seq:\n",
    "            optimizer.zero_grad()\n",
    "            model.hidden_cell = (torch.zeros(1, 1, model.hidden_layer_size, device=device), \n",
    "                                 torch.zeros(1, 1, model.hidden_layer_size, device=device))\n",
    "            pred = model(seq)\n",
    "            single_loss = loss_function(pred, labels)\n",
    "            single_loss.backward()\n",
    "            optimizer.step()\n",
    "    print(f'epoch: {i:3} loss: {single_loss.item():10.8f}')\n",
    "    return model"
   ]
  },
  {
   "cell_type": "code",
   "execution_count": 13,
   "metadata": {},
   "outputs": [],
   "source": [
    "def getTrain_TestTensor(filename):\n",
    "    data = pd.read_csv(filename)\n",
    "    df = pd.DataFrame(data)\n",
    "    df = df.drop(columns=['#date', 'ssh[m]', 'average_ssh[m]', 'geoid_height[m]', 'tide_height[cm]'])\n",
    "    df['timestamp'] = pd.to_timedelta(df['time']).astype('timedelta64[s]').astype(int)\n",
    "    df['relative_timestamp'] = df['timestamp']-df['timestamp'][0]\n",
    "    df = df.drop(columns=['time', 'timestamp'])\n",
    "    tl = int(len(df)*0.68)\n",
    "    print(tl)\n",
    "    testSize = int(len(df)) - tl\n",
    "    print(testSize)\n",
    "    \n",
    "    trainTensor = torch.zeros(tl, 3).to(device)\n",
    "    trainTensor[0][0] = df['latitude'][0]\n",
    "    trainTensor[0][1] = df['longitude'][0]\n",
    "    trainTensor[0][2] = df['flight_altitude[m]'][0]\n",
    "    print(trainTensor.shape)\n",
    "    \n",
    "    j = 0\n",
    "    for i in range(1, tl):\n",
    "        if(df['relative_timestamp'][i]!=df['relative_timestamp'][i-1]):\n",
    "            j+=1\n",
    "            trainTensor[j][0] = df['latitude'][i]\n",
    "            trainTensor[j][1] = df['longitude'][i]\n",
    "            trainTensor[j][2] = df['flight_altitude[m]'][i]\n",
    "    trainTensor = trainTensor[trainTensor.abs().sum(dim=1) != 0]\n",
    "    testTensor = torch.zeros(testSize, 3).to(device)\n",
    "    testTensor[0][0] = df['latitude'][tl]\n",
    "    testTensor[0][1] = df['longitude'][tl]\n",
    "    testTensor[0][2] = df['flight_altitude[m]'][tl]\n",
    "    j = 0\n",
    "    for i in range(tl, len(df)):\n",
    "        if(df['relative_timestamp'][i]!=df['relative_timestamp'][i-1]):\n",
    "            j+=1\n",
    "            testTensor[j][0] = df['latitude'][i]\n",
    "            testTensor[j][1] = df['longitude'][i]\n",
    "            testTensor[j][2] = df['flight_altitude[m]'][i]\n",
    "    testTensor = testTensor[testTensor.abs().sum(dim=1) != 0]\n",
    "    print(len(trainTensor), end = ' ')\n",
    "    print(len(testTensor))\n",
    "    return [trainTensor, testTensor]"
   ]
  },
  {
   "cell_type": "code",
   "execution_count": 7,
   "metadata": {},
   "outputs": [
    {
     "name": "stdout",
     "output_type": "stream",
     "text": [
      "9817\n",
      "4621\n",
      "torch.Size([9817, 3])\n",
      "786 370\n"
     ]
    },
    {
     "ename": "KeyboardInterrupt",
     "evalue": "",
     "output_type": "error",
     "traceback": [
      "\u001b[1;31m---------------------------------------------------------------------------\u001b[0m",
      "\u001b[1;31mKeyboardInterrupt\u001b[0m                         Traceback (most recent call last)",
      "\u001b[1;32m<ipython-input-7-87fdeff30f6a>\u001b[0m in \u001b[0;36m<module>\u001b[1;34m\u001b[0m\n\u001b[0;32m      6\u001b[0m \u001b[0mtrain_inout_seq\u001b[0m \u001b[1;33m=\u001b[0m \u001b[0mcreate_inout_sequences\u001b[0m\u001b[1;33m(\u001b[0m\u001b[0mconv_tT\u001b[0m\u001b[1;33m,\u001b[0m \u001b[0mtrain_window\u001b[0m\u001b[1;33m)\u001b[0m\u001b[1;33m\u001b[0m\u001b[1;33m\u001b[0m\u001b[0m\n\u001b[0;32m      7\u001b[0m \u001b[0mnet\u001b[0m \u001b[1;33m=\u001b[0m \u001b[0mLSTM\u001b[0m\u001b[1;33m(\u001b[0m\u001b[1;33m)\u001b[0m\u001b[1;33m\u001b[0m\u001b[1;33m\u001b[0m\u001b[0m\n\u001b[1;32m----> 8\u001b[1;33m \u001b[0mtm\u001b[0m \u001b[1;33m=\u001b[0m \u001b[0mtrain_model\u001b[0m\u001b[1;33m(\u001b[0m\u001b[0mnet\u001b[0m\u001b[1;33m,\u001b[0m \u001b[0mtrain_inout_seq\u001b[0m\u001b[1;33m,\u001b[0m \u001b[0mepochs\u001b[0m\u001b[1;33m=\u001b[0m\u001b[1;36m15\u001b[0m\u001b[1;33m)\u001b[0m\u001b[1;33m\u001b[0m\u001b[1;33m\u001b[0m\u001b[0m\n\u001b[0m\u001b[0;32m      9\u001b[0m \u001b[0mtorch\u001b[0m\u001b[1;33m.\u001b[0m\u001b[0msave\u001b[0m\u001b[1;33m(\u001b[0m\u001b[0mtm\u001b[0m\u001b[1;33m.\u001b[0m\u001b[0mstate_dict\u001b[0m\u001b[1;33m(\u001b[0m\u001b[1;33m)\u001b[0m\u001b[1;33m,\u001b[0m \u001b[1;34m'trained_model.pth'\u001b[0m\u001b[1;33m)\u001b[0m\u001b[1;33m\u001b[0m\u001b[1;33m\u001b[0m\u001b[0m\n",
      "\u001b[1;32m<ipython-input-5-d4e5fe53c4a1>\u001b[0m in \u001b[0;36mtrain_model\u001b[1;34m(net, train_inout_seq, lr, epochs, device)\u001b[0m\n\u001b[0;32m     13\u001b[0m             \u001b[0mpred\u001b[0m \u001b[1;33m=\u001b[0m \u001b[0mmodel\u001b[0m\u001b[1;33m(\u001b[0m\u001b[0mseq\u001b[0m\u001b[1;33m)\u001b[0m\u001b[1;33m\u001b[0m\u001b[1;33m\u001b[0m\u001b[0m\n\u001b[0;32m     14\u001b[0m             \u001b[0msingle_loss\u001b[0m \u001b[1;33m=\u001b[0m \u001b[0mloss_function\u001b[0m\u001b[1;33m(\u001b[0m\u001b[0mpred\u001b[0m\u001b[1;33m,\u001b[0m \u001b[0mlabels\u001b[0m\u001b[1;33m)\u001b[0m\u001b[1;33m\u001b[0m\u001b[1;33m\u001b[0m\u001b[0m\n\u001b[1;32m---> 15\u001b[1;33m             \u001b[0msingle_loss\u001b[0m\u001b[1;33m.\u001b[0m\u001b[0mbackward\u001b[0m\u001b[1;33m(\u001b[0m\u001b[1;33m)\u001b[0m\u001b[1;33m\u001b[0m\u001b[1;33m\u001b[0m\u001b[0m\n\u001b[0m\u001b[0;32m     16\u001b[0m             \u001b[0moptimizer\u001b[0m\u001b[1;33m.\u001b[0m\u001b[0mstep\u001b[0m\u001b[1;33m(\u001b[0m\u001b[1;33m)\u001b[0m\u001b[1;33m\u001b[0m\u001b[1;33m\u001b[0m\u001b[0m\n\u001b[0;32m     17\u001b[0m     \u001b[0mprint\u001b[0m\u001b[1;33m(\u001b[0m\u001b[1;34mf'epoch: {i:3} loss: {single_loss.item():10.8f}'\u001b[0m\u001b[1;33m)\u001b[0m\u001b[1;33m\u001b[0m\u001b[1;33m\u001b[0m\u001b[0m\n",
      "\u001b[1;32m~\\anaconda3\\lib\\site-packages\\torch\\_tensor.py\u001b[0m in \u001b[0;36mbackward\u001b[1;34m(self, gradient, retain_graph, create_graph, inputs)\u001b[0m\n\u001b[0;32m    253\u001b[0m                 \u001b[0mcreate_graph\u001b[0m\u001b[1;33m=\u001b[0m\u001b[0mcreate_graph\u001b[0m\u001b[1;33m,\u001b[0m\u001b[1;33m\u001b[0m\u001b[1;33m\u001b[0m\u001b[0m\n\u001b[0;32m    254\u001b[0m                 inputs=inputs)\n\u001b[1;32m--> 255\u001b[1;33m         \u001b[0mtorch\u001b[0m\u001b[1;33m.\u001b[0m\u001b[0mautograd\u001b[0m\u001b[1;33m.\u001b[0m\u001b[0mbackward\u001b[0m\u001b[1;33m(\u001b[0m\u001b[0mself\u001b[0m\u001b[1;33m,\u001b[0m \u001b[0mgradient\u001b[0m\u001b[1;33m,\u001b[0m \u001b[0mretain_graph\u001b[0m\u001b[1;33m,\u001b[0m \u001b[0mcreate_graph\u001b[0m\u001b[1;33m,\u001b[0m \u001b[0minputs\u001b[0m\u001b[1;33m=\u001b[0m\u001b[0minputs\u001b[0m\u001b[1;33m)\u001b[0m\u001b[1;33m\u001b[0m\u001b[1;33m\u001b[0m\u001b[0m\n\u001b[0m\u001b[0;32m    256\u001b[0m \u001b[1;33m\u001b[0m\u001b[0m\n\u001b[0;32m    257\u001b[0m     \u001b[1;32mdef\u001b[0m \u001b[0mregister_hook\u001b[0m\u001b[1;33m(\u001b[0m\u001b[0mself\u001b[0m\u001b[1;33m,\u001b[0m \u001b[0mhook\u001b[0m\u001b[1;33m)\u001b[0m\u001b[1;33m:\u001b[0m\u001b[1;33m\u001b[0m\u001b[1;33m\u001b[0m\u001b[0m\n",
      "\u001b[1;32m~\\anaconda3\\lib\\site-packages\\torch\\autograd\\__init__.py\u001b[0m in \u001b[0;36mbackward\u001b[1;34m(tensors, grad_tensors, retain_graph, create_graph, grad_variables, inputs)\u001b[0m\n\u001b[0;32m    147\u001b[0m     Variable._execution_engine.run_backward(\n\u001b[0;32m    148\u001b[0m         \u001b[0mtensors\u001b[0m\u001b[1;33m,\u001b[0m \u001b[0mgrad_tensors_\u001b[0m\u001b[1;33m,\u001b[0m \u001b[0mretain_graph\u001b[0m\u001b[1;33m,\u001b[0m \u001b[0mcreate_graph\u001b[0m\u001b[1;33m,\u001b[0m \u001b[0minputs\u001b[0m\u001b[1;33m,\u001b[0m\u001b[1;33m\u001b[0m\u001b[1;33m\u001b[0m\u001b[0m\n\u001b[1;32m--> 149\u001b[1;33m         allow_unreachable=True, accumulate_grad=True)  # allow_unreachable flag\n\u001b[0m\u001b[0;32m    150\u001b[0m \u001b[1;33m\u001b[0m\u001b[0m\n\u001b[0;32m    151\u001b[0m \u001b[1;33m\u001b[0m\u001b[0m\n",
      "\u001b[1;31mKeyboardInterrupt\u001b[0m: "
     ]
    }
   ],
   "source": [
    "file1 = 'flight20161208-1.csv'\n",
    "trainTensor, testTensor = getTrain_TestTensor(file1)\n",
    "train_window = 50\n",
    "testSize = len(testTensor)\n",
    "conv_tT = trajectory_conversion(trainTensor)\n",
    "train_inout_seq = create_inout_sequences(conv_tT, train_window)\n",
    "net = LSTM()\n",
    "tm = train_model(net, train_inout_seq, epochs=15)\n",
    "torch.save(tm.state_dict(), 'trained_model.pth')"
   ]
  },
  {
   "cell_type": "code",
   "execution_count": 8,
   "metadata": {},
   "outputs": [
    {
     "name": "stdout",
     "output_type": "stream",
     "text": [
      "9817\n",
      "4621\n",
      "torch.Size([9817, 3])\n",
      "786 370\n",
      "epoch:  14 loss: 0.00005112\n"
     ]
    }
   ],
   "source": [
    "file2 = 'flight20161208-2.csv'\n",
    "trainTensor, testTensor = getTrain_TestTensor(file1)\n",
    "train_window = 50\n",
    "testSize = len(testTensor)\n",
    "conv_tT = trajectory_conversion(trainTensor)\n",
    "train_inout_seq = create_inout_sequences(conv_tT, train_window)\n",
    "net = LSTM()\n",
    "net.load_state_dict(torch.load('trained_model.pth'))\n",
    "tm = train_model(net, train_inout_seq, epochs=15)\n",
    "torch.save(tm.state_dict(), 'trained_model.pth')"
   ]
  },
  {
   "cell_type": "code",
   "execution_count": null,
   "metadata": {},
   "outputs": [],
   "source": [
    "file3 = 'flight20161208-3.csv'\n",
    "trainTensor, testTensor = getTrain_TestTensor(file1)\n",
    "train_window = 50\n",
    "testSize = len(testTensor)\n",
    "conv_tT = trajectory_conversion(trainTensor)\n",
    "train_inout_seq = create_inout_sequences(conv_tT, train_window)\n",
    "net = LSTM()\n",
    "net.load_state_dict(torch.load('trained_model.pth'))\n",
    "tm = train_model(net, train_inout_seq, epochs=15)\n",
    "torch.save(tm.state_dict(), 'trained_model.pth')"
   ]
  },
  {
   "cell_type": "code",
   "execution_count": 10,
   "metadata": {},
   "outputs": [
    {
     "name": "stdout",
     "output_type": "stream",
     "text": [
      "9817\n",
      "4621\n",
      "torch.Size([9817, 3])\n",
      "786 370\n",
      "epoch:  14 loss: 0.00008444\n"
     ]
    }
   ],
   "source": [
    "file4 = 'flight20161208-4.csv'\n",
    "trainTensor, testTensor = getTrain_TestTensor(file1)\n",
    "train_window = 50\n",
    "testSize = len(testTensor)\n",
    "conv_tT = trajectory_conversion(trainTensor)\n",
    "train_inout_seq = create_inout_sequences(conv_tT, train_window)\n",
    "net = LSTM()\n",
    "net.load_state_dict(torch.load('trained_model.pth'))\n",
    "tm = train_model(net, train_inout_seq, epochs=15)\n",
    "torch.save(tm.state_dict(), 'trained_model.pth')"
   ]
  },
  {
   "cell_type": "code",
   "execution_count": 11,
   "metadata": {},
   "outputs": [
    {
     "name": "stdout",
     "output_type": "stream",
     "text": [
      "9817\n",
      "4621\n",
      "torch.Size([9817, 3])\n",
      "786 370\n",
      "epoch:  14 loss: 0.00000729\n"
     ]
    }
   ],
   "source": [
    "file7 = 'flight20161208-7.csv'\n",
    "trainTensor, testTensor = getTrain_TestTensor(file1)\n",
    "train_window = 50\n",
    "testSize = len(testTensor)\n",
    "conv_tT = trajectory_conversion(trainTensor)\n",
    "train_inout_seq = create_inout_sequences(conv_tT, train_window)\n",
    "net = LSTM()\n",
    "net.load_state_dict(torch.load('trained_model.pth'))\n",
    "tm = train_model(net, train_inout_seq, epochs=15)\n",
    "torch.save(tm.state_dict(), 'trained_model.pth')"
   ]
  },
  {
   "cell_type": "code",
   "execution_count": 14,
   "metadata": {},
   "outputs": [],
   "source": [
    "def predict_30(model, conv_tT, trainTensor, fut_pred=30, device=device):\n",
    "    test_inputs = conv_tT[-train_window:]\n",
    "    model.eval()\n",
    "    for i in range(fut_pred):\n",
    "        seq = test_inputs[-train_window:].to(device)\n",
    "        with torch.no_grad():\n",
    "            model.hidden = (torch.zeros(1, 1, model.hidden_layer_size, device=device), \n",
    "                            torch.zeros(1, 1, model.hidden_layer_size, device=device))\n",
    "            Pred = model(seq)\n",
    "            newObservation = torch.tensor([[Pred[0], Pred[1], Pred[2]]])      \n",
    "            torch.cat((test_inputs, newObservation))\n",
    "    X = []\n",
    "    Y = []\n",
    "    Z = []\n",
    "    trainTensor[-1][0].item()\n",
    "    trainTensor[-1][1].item()\n",
    "    for x, y, z in test_inputs[-fut_pred:]:\n",
    "        X.append(x)\n",
    "        Y.append(y)\n",
    "        Z.append(z)\n",
    "        #print(x, y, z)\n",
    "    X = np.asarray(X)\n",
    "    Y = np.asarray(Y)\n",
    "    Z = np.asarray(Z)\n",
    "    X = np.cumsum(X)\n",
    "    Y = np.cumsum(Y)\n",
    "    Z = np.cumsum(Z)\n",
    "    X_f = X+trainTensor[-1][0].item()\n",
    "    Y_f = Y+trainTensor[-1][1].item()\n",
    "    Z_f = Z+trainTensor[-1][2].item()\n",
    "    #plt.plot(X_f, Y_f)\n",
    "    #plt.show()\n",
    "    #print(X_f)\n",
    "    #print(Y_f)\n",
    "    predicted = torch.zeros(fut_pred, 3).to(device)\n",
    "    for i in range(fut_pred):\n",
    "        predicted[i][0] = X_f[i].item()\n",
    "        predicted[i][1] = Y_f[i].item()\n",
    "        predicted[i][2] = Z_f[i].item()\n",
    "    return [predicted, X_f, Y_f, Z_f]"
   ]
  },
  {
   "cell_type": "code",
   "execution_count": 15,
   "metadata": {},
   "outputs": [],
   "source": [
    "def Completed_trajectory(model, conv_tT, trainTensor, fut_pred, testTensor, plot=True, device=device, merge=False):\n",
    "    X_f = np.asarray([])\n",
    "    Y_f = np.asarray([])\n",
    "    Z_f = np.asarray([])\n",
    "    predicted_tensor = torch.zeros(1, 3).to(device)\n",
    "    predicted_tensor[0] = trainTensor[-1]\n",
    "    temp = trainTensor[:]\n",
    "    for i in range(int(fut_pred/30)):\n",
    "        pred = predict_30(model, conv_tT, temp, 30, device)\n",
    "        temp = torch.cat((temp, pred[0]))\n",
    "        predicted_tensor = torch.cat((predicted_tensor, pred[0]))\n",
    "        X_f = np.concatenate((X_f, pred[1]), axis=0)\n",
    "        Y_f = np.concatenate((Y_f, pred[2]), axis=0)\n",
    "        Z_f = np.concatenate((Z_f, pred[3]), axis=0)\n",
    "    if fut_pred%30!=0:\n",
    "        pred = predict_30(model, conv_tT, temp, int(fut_pred%30), device)\n",
    "        temp = torch.cat((temp, pred[0]))\n",
    "        predicted_tensor = torch.cat((predicted_tensor, pred[0]))\n",
    "        X_f = np.concatenate((X_f, pred[1]), axis=0)\n",
    "        Y_f = np.concatenate((Y_f, pred[2]), axis=0)\n",
    "        Z_f = np.concatenate((Z_f, pred[3]), axis=0)\n",
    "    \n",
    "    if plot:\n",
    "        plt.plot(trainTensor[:, :1].cpu(), trainTensor[:, 2:].cpu(), label='train')\n",
    "        plt.plot(testTensor[:, :1].cpu(), testTensor[:, 2:].cpu(), label='test')\n",
    "        plt.xlabel('latitude')\n",
    "        plt.ylabel('altitude')\n",
    "        plt.legend()\n",
    "        plt.show()\n",
    "\n",
    "        plt.plot(trainTensor[:, :1].cpu(), trainTensor[:, 2:].cpu(), label='train')\n",
    "        plt.plot(X_f, Z_f, label='predicted')\n",
    "        plt.xlabel('latitude')\n",
    "        plt.ylabel('altitude')\n",
    "        plt.legend()\n",
    "        plt.show()\n",
    "\n",
    "        plt.plot(trainTensor[:, :1].cpu(), trainTensor[:, 2:].cpu(), label='train')\n",
    "        plt.plot(testTensor[:, :1].cpu(), testTensor[:, 2:].cpu(), label='test')\n",
    "        plt.plot(X_f, Z_f, label='predicted')\n",
    "        plt.xlabel('latitude')\n",
    "        plt.ylabel('altitude')\n",
    "        plt.legend()\n",
    "        plt.show()\n",
    "        plt.grid(color='white', linewidth=2)\n",
    "        plt.savefig('output/output', dpi = 500)\n",
    "    if(merge):\n",
    "        return temp\n",
    "    return predicted_tensor[1:]"
   ]
  },
  {
   "cell_type": "code",
   "execution_count": 16,
   "metadata": {},
   "outputs": [
    {
     "ename": "NameError",
     "evalue": "name 'tm' is not defined",
     "output_type": "error",
     "traceback": [
      "\u001b[1;31m---------------------------------------------------------------------------\u001b[0m",
      "\u001b[1;31mNameError\u001b[0m                                 Traceback (most recent call last)",
      "\u001b[1;32m<ipython-input-16-bf373d87cd09>\u001b[0m in \u001b[0;36m<module>\u001b[1;34m\u001b[0m\n\u001b[1;32m----> 1\u001b[1;33m \u001b[0mprediction\u001b[0m \u001b[1;33m=\u001b[0m \u001b[0mCompleted_trajectory\u001b[0m\u001b[1;33m(\u001b[0m\u001b[0mtm\u001b[0m\u001b[1;33m,\u001b[0m \u001b[0mconv_tT\u001b[0m\u001b[1;33m,\u001b[0m \u001b[0mtrainTensor\u001b[0m\u001b[1;33m,\u001b[0m \u001b[1;36m50\u001b[0m\u001b[1;33m,\u001b[0m \u001b[0mtestTensor\u001b[0m\u001b[1;33m,\u001b[0m \u001b[0mdevice\u001b[0m\u001b[1;33m=\u001b[0m\u001b[0mdevice\u001b[0m\u001b[1;33m)\u001b[0m\u001b[1;33m\u001b[0m\u001b[1;33m\u001b[0m\u001b[0m\n\u001b[0m",
      "\u001b[1;31mNameError\u001b[0m: name 'tm' is not defined"
     ]
    }
   ],
   "source": [
    "prediction = Completed_trajectory(tm, conv_tT, trainTensor, 50, testTensor, device=device)"
   ]
  },
  {
   "cell_type": "code",
   "execution_count": 16,
   "metadata": {},
   "outputs": [
    {
     "name": "stdout",
     "output_type": "stream",
     "text": [
      "320\n"
     ]
    },
    {
     "data": {
      "image/png": "[encoded data removed]",
      "text/plain": [
       "<Figure size 432x288 with 1 Axes>"
      ]
     },
     "metadata": {
      "needs_background": "light"
     },
     "output_type": "display_data"
    }
   ],
   "source": [
    "testPlot = testTensor.cpu()\n",
    "print(testSize - len(prediction))\n",
    "testPlot = testPlot[-(len(testTensor) - len(prediction)):]\n",
    "plt.plot(trainTensor[:, :1].cpu(), trainTensor[:, 2:].cpu(), label='train')\n",
    "plt.plot(prediction[:, :1].cpu(), prediction[:, 2:].cpu(), label='predicted')\n",
    "plt.plot(testPlot[:, :1].cpu(), testPlot[:, 2:], label='test')\n",
    "plt.legend()\n",
    "plt.show()"
   ]
  },
  {
   "cell_type": "code",
   "execution_count": null,
   "metadata": {},
   "outputs": [],
   "source": []
  }
 ],
 "metadata": {
  "kernelspec": {
   "display_name": "Python 3",
   "language": "python",
   "name": "python3"
  },
  "language_info": {
   "codemirror_mode": {
    "name": "ipython",
    "version": 3
   },
   "file_extension": ".py",
   "mimetype": "text/x-python",
   "name": "python",
   "nbconvert_exporter": "python",
   "pygments_lexer": "ipython3",
   "version": "3.7.6"
  }
 },
 "nbformat": 4,
 "nbformat_minor": 4
}
