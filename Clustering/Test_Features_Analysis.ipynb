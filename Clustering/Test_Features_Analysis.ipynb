{
 "cells": [
  {
   "cell_type": "code",
   "execution_count": 1,
   "metadata": {},
   "outputs": [],
   "source": [
    "import numpy as np\n",
    "import pandas as pd\n",
    "from sklearn.preprocessing import MinMaxScaler\n",
    "import os\n",
    "import glob"
   ]
  },
  {
   "cell_type": "code",
   "execution_count": 2,
   "metadata": {},
   "outputs": [
    {
     "name": "stdout",
     "output_type": "stream",
     "text": [
      "813.4739056032413\n",
      "654.904534982571\n",
      "10.000000000014552\n",
      "0.0\n",
      "15.022958443625612\n"
     ]
    }
   ],
   "source": [
    "test_features = pd.DataFrame()\n",
    "\n",
    "f_list = []\n",
    "path = './test_files'\n",
    "for filename in glob.glob(os.path.join(path, '*.csv')):\n",
    "    df = pd.read_csv(filename)\n",
    "    dphi = np.diff(np.asarray(df['lat'].values, dtype = np.float64))\n",
    "    dlambda = np.diff(np.asarray(df['lon'].values, dtype = np.float64))\n",
    "    d2alt = np.diff(np.diff(np.asarray(df['alt'].values, dtype = np.float64)))\n",
    "    dt = np.diff(np.asarray(df['t'].values, dtype = np.float64))\n",
    "    dphi /= dt\n",
    "    dlambda /= dt\n",
    "    d2alt /= dt[:-1]\n",
    "         \n",
    "    dalt_mean = np.mean(d2alt)\n",
    "    \n",
    "    threshold_for_maneuver = 30\n",
    "    is_maneuver = 0\n",
    "    print (np.max(np.abs(d2alt)))\n",
    "    if np.max(np.abs(d2alt)) > threshold_for_maneuver:\n",
    "        is_maneuver = 1\n",
    "    plane_speed = np.sqrt(np.power(dphi, 2) + np.power(dlambda, 2)) \n",
    "    \n",
    "    plane_speed *= 111000\n",
    "    \n",
    "    dist = ((df['lat'].values[-1] - df['lat'].values[0]) ** 2 + (df['lon'].values[-1] - df['lon'].values[0]) ** 2)\n",
    "    dist = np.sqrt(dist)\n",
    "    \n",
    "    f_list.append([filename, np.max(np.asarray(df['alt'].values, dtype = np.float64)), dalt_mean,\n",
    "                   np.mean(plane_speed), dist, is_maneuver])"
   ]
  },
  {
   "cell_type": "code",
   "execution_count": 3,
   "metadata": {},
   "outputs": [],
   "source": [
    "f_list = np.asarray(f_list)"
   ]
  },
  {
   "cell_type": "code",
   "execution_count": 5,
   "metadata": {},
   "outputs": [],
   "source": [
    "for idx, x in enumerate(['fname', 'alt_max', 'vert_acc', 'horiz_speed', 'dist', 'is_maneuver']):\n",
    "    test_features[x] = f_list[:, idx]"
   ]
  },
  {
   "cell_type": "code",
   "execution_count": 6,
   "metadata": {},
   "outputs": [
    {
     "data": {
      "text/html": [
       "<div>\n",
       "<style scoped>\n",
       "    .dataframe tbody tr th:only-of-type {\n",
       "        vertical-align: middle;\n",
       "    }\n",
       "\n",
       "    .dataframe tbody tr th {\n",
       "        vertical-align: top;\n",
       "    }\n",
       "\n",
       "    .dataframe thead th {\n",
       "        text-align: right;\n",
       "    }\n",
       "</style>\n",
       "<table border=\"1\" class=\"dataframe\">\n",
       "  <thead>\n",
       "    <tr style=\"text-align: right;\">\n",
       "      <th></th>\n",
       "      <th>fname</th>\n",
       "      <th>alt_max</th>\n",
       "      <th>vert_acc</th>\n",
       "      <th>horiz_speed</th>\n",
       "      <th>dist</th>\n",
       "      <th>is_maneuver</th>\n",
       "    </tr>\n",
       "  </thead>\n",
       "  <tbody>\n",
       "    <tr>\n",
       "      <th>count</th>\n",
       "      <td>5</td>\n",
       "      <td>5</td>\n",
       "      <td>5</td>\n",
       "      <td>5</td>\n",
       "      <td>5</td>\n",
       "      <td>5</td>\n",
       "    </tr>\n",
       "    <tr>\n",
       "      <th>unique</th>\n",
       "      <td>5</td>\n",
       "      <td>5</td>\n",
       "      <td>5</td>\n",
       "      <td>5</td>\n",
       "      <td>5</td>\n",
       "      <td>2</td>\n",
       "    </tr>\n",
       "    <tr>\n",
       "      <th>top</th>\n",
       "      <td>./test_files\\traj21.csv</td>\n",
       "      <td>8281.973220666241</td>\n",
       "      <td>-9.999999999999998</td>\n",
       "      <td>876.349492666167</td>\n",
       "      <td>13.605878178530729</td>\n",
       "      <td>0</td>\n",
       "    </tr>\n",
       "    <tr>\n",
       "      <th>freq</th>\n",
       "      <td>1</td>\n",
       "      <td>1</td>\n",
       "      <td>1</td>\n",
       "      <td>1</td>\n",
       "      <td>1</td>\n",
       "      <td>3</td>\n",
       "    </tr>\n",
       "  </tbody>\n",
       "</table>\n",
       "</div>"
      ],
      "text/plain": [
       "                          fname            alt_max            vert_acc  \\\n",
       "count                         5                  5                   5   \n",
       "unique                        5                  5                   5   \n",
       "top     ./test_files\\traj21.csv  8281.973220666241  -9.999999999999998   \n",
       "freq                          1                  1                   1   \n",
       "\n",
       "             horiz_speed                dist is_maneuver  \n",
       "count                  5                   5           5  \n",
       "unique                 5                   5           2  \n",
       "top     876.349492666167  13.605878178530729           0  \n",
       "freq                   1                   1           3  "
      ]
     },
     "execution_count": 6,
     "metadata": {},
     "output_type": "execute_result"
    }
   ],
   "source": [
    "test_features.describe()"
   ]
  },
  {
   "cell_type": "code",
   "execution_count": 8,
   "metadata": {},
   "outputs": [],
   "source": [
    "test_features = test_features.sort_values(['fname'], ascending = [1], axis = 0)"
   ]
  },
  {
   "cell_type": "code",
   "execution_count": 9,
   "metadata": {},
   "outputs": [],
   "source": [
    "rcs_mean = [80, 3, 0.01, 0.1, 15]"
   ]
  },
  {
   "cell_type": "code",
   "execution_count": 10,
   "metadata": {},
   "outputs": [],
   "source": [
    "rcs_values = []\n",
    "for i in rcs_mean:\n",
    "    for k in np.random.normal(i, i/10, 1):\n",
    "        rcs_values.append(k)"
   ]
  },
  {
   "cell_type": "code",
   "execution_count": 11,
   "metadata": {},
   "outputs": [
    {
     "data": {
      "text/plain": [
       "[84.55235581645529,\n",
       " 3.201685279789068,\n",
       " 0.011262761142884811,\n",
       " 0.1089054904084633,\n",
       " 14.669487356435447]"
      ]
     },
     "execution_count": 11,
     "metadata": {},
     "output_type": "execute_result"
    }
   ],
   "source": [
    "rcs_values"
   ]
  },
  {
   "cell_type": "code",
   "execution_count": 12,
   "metadata": {},
   "outputs": [],
   "source": [
    "test_features['rcs'] = rcs_values"
   ]
  },
  {
   "cell_type": "code",
   "execution_count": 13,
   "metadata": {},
   "outputs": [],
   "source": [
    "test_features.to_csv('test_features.csv', index = False)"
   ]
  },
  {
   "cell_type": "code",
   "execution_count": null,
   "metadata": {},
   "outputs": [],
   "source": []
  }
 ],
 "metadata": {
  "kernelspec": {
   "display_name": "Python 3",
   "language": "python",
   "name": "python3"
  },
  "language_info": {
   "codemirror_mode": {
    "name": "ipython",
    "version": 3
   },
   "file_extension": ".py",
   "mimetype": "text/x-python",
   "name": "python",
   "nbconvert_exporter": "python",
   "pygments_lexer": "ipython3",
   "version": "3.7.6"
  }
 },
 "nbformat": 4,
 "nbformat_minor": 4
}
